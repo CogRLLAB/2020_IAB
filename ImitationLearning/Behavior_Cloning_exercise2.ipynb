{
 "cells": [
  {
   "cell_type": "markdown",
   "metadata": {
    "colab_type": "text",
    "id": "Zy1-sQs6xA3y"
   },
   "source": [
    "# Install & Import Required packages/libraries"
   ]
  },
  {
   "cell_type": "code",
   "execution_count": null,
   "metadata": {},
   "outputs": [],
   "source": [
    "!pip install gym\n",
    "!git clone https://github.com/jakevdp/JSAnimation \n",
    "%cd JSAnimation \n",
    "!python setup.py install\n",
    "\n",
    "!apt-get install python-opengl -y \n",
    "!apt install xvfb -y \n",
    "!pip install pyvirtualdisplay\n",
    "!pip install pyglet \n",
    "!pip install matplotlib==2.0\n",
    "%cd .."
   ]
  },
  {
   "cell_type": "code",
   "execution_count": null,
   "metadata": {
    "colab": {
     "base_uri": "https://localhost:8080/",
     "height": 928
    },
    "colab_type": "code",
    "executionInfo": {
     "elapsed": 28341,
     "status": "ok",
     "timestamp": 1574954947197,
     "user": {
      "displayName": "Obin Kwon",
      "photoUrl": "",
      "userId": "09113470804415547992"
     },
     "user_tz": -540
    },
    "id": "AicRQNo3fqOz",
    "outputId": "fa764b85-35ea-4a44-87c7-f80bce224c41"
   },
   "outputs": [],
   "source": [
    "import gym\n",
    "import pickle\n",
    "import numpy as np\n",
    "import matplotlib.pyplot as plt\n",
    "\n",
    "from sklearn.utils import shuffle\n",
    "from sklearn.gaussian_process import GaussianProcessRegressor\n",
    "from sklearn.gaussian_process.kernels import RBF, ConstantKernel as C\n",
    "\n",
    "from gym.wrappers import Monitor\n",
    "import glob, io, base64\n",
    "from IPython.display import HTML, display\n",
    "\n",
    "def show_video():\n",
    "  mp4list = glob.glob('video/*.mp4')\n",
    "  if len(mp4list) > 0:\n",
    "    mp4 = mp4list[0]\n",
    "    video = io.open(mp4, 'r+b').read()\n",
    "    encoded = base64.b64encode(video)\n",
    "    display(HTML(data='''<video alt=\"test\" autoplay \n",
    "                loop controls style=\"height: 400px;\">\n",
    "                <source src=\"data:video/mp4;base64,{0}\" type=\"video/mp4\" />\n",
    "             </video>'''.format(encoded.decode('ascii'))))\n",
    "  else: \n",
    "    print(\"Could not find video\")\n",
    "\n",
    "def wrap_env(env):\n",
    "  env = Monitor(env, './video', force=True)\n",
    "  return env\n",
    "\n",
    "from pyvirtualdisplay import Display\n",
    "Display().start()\n",
    "\n",
    "\n",
    "# download and upload https://drive.google.com/open?id=1k8zmU1xTlABgAhjHM9A43zqq3Jtu_I4x"
   ]
  },
  {
   "cell_type": "code",
   "execution_count": null,
   "metadata": {
    "colab": {},
    "colab_type": "code",
    "id": "pXz1veTdnTMi"
   },
   "outputs": [],
   "source": [
    "import gym\n",
    "env = gym.make(\"MountainCarContinuous-v0\")\n",
    "obs = env.reset\n"
   ]
  },
  {
   "cell_type": "code",
   "execution_count": null,
   "metadata": {
    "colab": {
     "base_uri": "https://localhost:8080/",
     "height": 269
    },
    "colab_type": "code",
    "executionInfo": {
     "elapsed": 1213,
     "status": "ok",
     "timestamp": 1574955202913,
     "user": {
      "displayName": "Obin Kwon",
      "photoUrl": "",
      "userId": "09113470804415547992"
     },
     "user_tz": -540
    },
    "id": "cUOXOFoAnh4o",
    "outputId": "16cf0305-ee1b-43d2-9daf-f30e17a69a9b"
   },
   "outputs": [],
   "source": [
    "obs_img = env.render(mode='rgb_array')\n",
    "plt.imshow(obs_img)\n",
    "plt.show()"
   ]
  },
  {
   "cell_type": "code",
   "execution_count": null,
   "metadata": {
    "colab": {
     "base_uri": "https://localhost:8080/",
     "height": 438
    },
    "colab_type": "code",
    "executionInfo": {
     "elapsed": 13573,
     "status": "ok",
     "timestamp": 1574956149515,
     "user": {
      "displayName": "Obin Kwon",
      "photoUrl": "",
      "userId": "09113470804415547992"
     },
     "user_tz": -540
    },
    "id": "r03AnmlbpjO0",
    "outputId": "2bb0299b-5627-4ae6-cd19-ece57534cba8"
   },
   "outputs": [],
   "source": [
    "env = wrap_env(gym.make(\"MountainCarContinuous-v0\"))\n",
    "obs = env.reset()\n",
    "total_reward = 0\n",
    "frames = []\n",
    "for t in range(10000):\n",
    "    action = env.action_space.sample()\n",
    "    obs, reward, done, info = env.step(action)\n",
    "    total_reward += reward\n",
    "    if done:\n",
    "        break\n",
    "env.close()\n",
    "print('Total Reward : %.2f'%total_reward)\n",
    "show_video()"
   ]
  },
  {
   "cell_type": "code",
   "execution_count": null,
   "metadata": {
    "colab": {
     "base_uri": "https://localhost:8080/",
     "height": 35
    },
    "colab_type": "code",
    "executionInfo": {
     "elapsed": 708,
     "status": "ok",
     "timestamp": 1574955563758,
     "user": {
      "displayName": "Obin Kwon",
      "photoUrl": "",
      "userId": "09113470804415547992"
     },
     "user_tz": -540
    },
    "id": "tObr6XyqqqmP",
    "outputId": "97bacbf5-11b2-4953-a637-8a8c9a092589"
   },
   "outputs": [],
   "source": [
    "obs"
   ]
  },
  {
   "cell_type": "markdown",
   "metadata": {
    "colab_type": "text",
    "id": "qBYEzne1fqO3"
   },
   "source": [
    "# Behavior Clonning \n",
    "\n",
    "# Pendulum Example\n",
    "\n",
    "### Load data from pickle file\n",
    "\n",
    "Data file has (s,a) pairs"
   ]
  },
  {
   "cell_type": "code",
   "execution_count": null,
   "metadata": {
    "colab": {},
    "colab_type": "code",
    "id": "3nvM_FiSfqO4"
   },
   "outputs": [],
   "source": [
    "envname = \"Pendulum-v0\"\n",
    "\n",
    "# Load demonstrations\n",
    "demo_file = open('./'+envname+'_expert_demo.pkl', 'rb')\n",
    "demonstrations = pickle.load(demo_file)\n",
    "demonstrations = shuffle(demonstrations)\n",
    "\n",
    "# Check expert's performance\n",
    "exp_ret = np.mean([np.sum(d['rewards']) for d in demonstrations])\n",
    "print('Expert\\'s Average Cumulative Rewards {:.3f}'.format(exp_ret))\n",
    "\n",
    "demo_observes = []\n",
    "demo_actions = []\n",
    "for demonstration in demonstrations:\n",
    "    for obs in demonstration['observes']:\n",
    "        demo_observes.append(obs)\n",
    "    for act in demonstration['actions']:\n",
    "        demo_actions.append(act)\n",
    "demo_observes=np.asarray(demo_observes)\n",
    "demo_actions=np.asarray(demo_actions)\n",
    "\n",
    "demo_observes, demo_actions = shuffle(demo_observes, demo_actions)\n",
    "\n",
    "demo_observes = demo_observes[:500, :]\n",
    "demo_actions = demo_actions[:500, :]"
   ]
  },
  {
   "cell_type": "markdown",
   "metadata": {
    "colab_type": "text",
    "id": "Al2A3bO6fqO7"
   },
   "source": [
    "### Print the shape of data\n",
    "### Find observation dimension and action dimension"
   ]
  },
  {
   "cell_type": "code",
   "execution_count": null,
   "metadata": {
    "colab": {},
    "colab_type": "code",
    "id": "xUgNdYAsfqO7"
   },
   "outputs": [],
   "source": [
    "obs_dim = (A)\n",
    "act_dim = (B)\n",
    "\n",
    "print(\"Observation data has shape {}\".format(demo_observes.shape))\n",
    "print(\"Action data has shape {}\".format(demo_actions.shape))"
   ]
  },
  {
   "cell_type": "markdown",
   "metadata": {
    "colab_type": "text",
    "id": "ANHxuQe8fqO9"
   },
   "source": [
    "(A) demo_observes.shape[1]\n",
    "\n",
    "(B) demo_actions.shape[1]"
   ]
  },
  {
   "cell_type": "markdown",
   "metadata": {
    "colab_type": "text",
    "id": "DS3BmgLafqO-"
   },
   "source": [
    "### Run Gaussian Process Regression"
   ]
  },
  {
   "cell_type": "code",
   "execution_count": null,
   "metadata": {
    "colab": {},
    "colab_type": "code",
    "id": "QnIGcpdCfqO_"
   },
   "outputs": [],
   "source": [
    "kernel = C(1.0, (1e-3, 1e3)) * RBF(1e4, (1e-2, 1e6))\n",
    "gp = GaussianProcessRegressor(kernel=kernel, n_restarts_optimizer=9)\n",
    "\n",
    "\n",
    "demo_obs_mean = (A)\n",
    "demo_obs_std = (B)\n",
    "nz_demo_observes = (C)\n",
    "\n",
    "\n",
    "gpr = gp.fit(nz_demo_observes, demo_actions)"
   ]
  },
  {
   "cell_type": "markdown",
   "metadata": {
    "colab_type": "text",
    "id": "VzYTZxD0fqPB"
   },
   "source": [
    "(A) np.mean(demo_observes,axis=0, keepdims=True)\n",
    "\n",
    "(B) np.std(demo_observes,axis=0, keepdims=True)\n",
    "\n",
    "(C) (demo_observes - demo_obs_mean) / demo_obs_std"
   ]
  },
  {
   "cell_type": "markdown",
   "metadata": {
    "colab_type": "text",
    "id": "xeySR-1cfqPB"
   },
   "source": [
    "### Test GPR controller!"
   ]
  },
  {
   "cell_type": "code",
   "execution_count": null,
   "metadata": {
    "colab": {},
    "colab_type": "code",
    "id": "U0fkJrqZfqPC"
   },
   "outputs": [],
   "source": [
    "env = wrap_env(gym.make(envname))\n",
    "obs = env.reset()\n",
    "obs = np.reshape(obs, [1, -1])\n",
    "total_reward = 0\n",
    "frames = []\n",
    "for t in range(10000):\n",
    "    # Render into buffer. \n",
    "    nz_obs = (A)\n",
    "    action = (B)\n",
    "    obs, reward, done, info = env.step(action)\n",
    "    obs = np.reshape(obs, [1, -1])\n",
    "    total_reward += reward\n",
    "    if done:\n",
    "        break\n",
    "env.close()\n",
    "print('Total Reward : %.2f'%total_reward)\n",
    "show_video()"
   ]
  },
  {
   "cell_type": "markdown",
   "metadata": {
    "colab_type": "text",
    "id": "AcVZad3kfqPE"
   },
   "source": [
    "(A) (obs - demo_obs_mean) / demo_obs_std\n",
    "\n",
    "(B) gp.predict(nz_obs)"
   ]
  }
 ],
 "metadata": {
  "colab": {
   "collapsed_sections": [],
   "name": "Behavior Cloning exercise 2.ipynb",
   "provenance": [],
   "toc_visible": true
  },
  "kernelspec": {
   "display_name": "Python 3",
   "language": "python",
   "name": "python3"
  },
  "language_info": {
   "codemirror_mode": {
    "name": "ipython",
    "version": 3
   },
   "file_extension": ".py",
   "mimetype": "text/x-python",
   "name": "python",
   "nbconvert_exporter": "python",
   "pygments_lexer": "ipython3",
   "version": "3.7.3"
  }
 },
 "nbformat": 4,
 "nbformat_minor": 1
}
