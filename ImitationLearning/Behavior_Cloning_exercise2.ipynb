{
 "cells": [
  {
   "cell_type": "markdown",
   "metadata": {
    "colab_type": "text",
    "id": "Zy1-sQs6xA3y"
   },
   "source": [
    "# Install & Import Required packages/libraries"
   ]
  },
  {
   "cell_type": "markdown",
   "metadata": {},
   "source": [
    "### * 중요! matplotlib version = 2.0으로 해야 호환성에 문제가 없었습니다 (다른 버전은 확인해보지 X)\n",
    "### => matplotlib version을 맞춰주세요!"
   ]
  },
  {
   "cell_type": "code",
   "execution_count": null,
   "metadata": {},
   "outputs": [],
   "source": [
    "!pip install gym\n",
    "!git clone https://github.com/jakevdp/JSAnimation \n",
    "%cd JSAnimation \n",
    "!python setup.py install\n",
    "\n",
    "!apt-get install python-opengl -y \n",
    "!apt install xvfb -y \n",
    "!pip install pyvirtualdisplay\n",
    "!pip install pyglet \n",
    "!pip install matplotlib==2.0\n",
    "%cd .."
   ]
  },
  {
   "cell_type": "markdown",
   "metadata": {},
   "source": [
    "### **위의 셀을 실행시키고 .pkl 파일 [Expert Data] 을 Google drive에 넣어주세요!"
   ]
  },
  {
   "cell_type": "code",
   "execution_count": null,
   "metadata": {
    "colab": {
     "base_uri": "https://localhost:8080/",
     "height": 928
    },
    "colab_type": "code",
    "executionInfo": {
     "elapsed": 28341,
     "status": "ok",
     "timestamp": 1574954947197,
     "user": {
      "displayName": "Obin Kwon",
      "photoUrl": "",
      "userId": "09113470804415547992"
     },
     "user_tz": -540
    },
    "id": "AicRQNo3fqOz",
    "outputId": "fa764b85-35ea-4a44-87c7-f80bce224c41"
   },
   "outputs": [],
   "source": [
    "import gym\n",
    "import pickle\n",
    "import numpy as np\n",
    "import matplotlib.pyplot as plt\n",
    "\n",
    "from sklearn.utils import shuffle\n",
    "from sklearn.gaussian_process import GaussianProcessRegressor\n",
    "from sklearn.gaussian_process.kernels import RBF, ConstantKernel as C\n",
    "\n",
    "from gym.wrappers import Monitor\n",
    "import glob, io, base64\n",
    "from IPython.display import HTML, display\n",
    "\n",
    "def show_video():\n",
    "  mp4list = glob.glob('video/*.mp4')\n",
    "  if len(mp4list) > 0:\n",
    "    mp4 = mp4list[0]\n",
    "    video = io.open(mp4, 'r+b').read()\n",
    "    encoded = base64.b64encode(video)\n",
    "    display(HTML(data='''<video alt=\"test\" autoplay \n",
    "                loop controls style=\"height: 400px;\">\n",
    "                <source src=\"data:video/mp4;base64,{0}\" type=\"video/mp4\" />\n",
    "             </video>'''.format(encoded.decode('ascii'))))\n",
    "  else: \n",
    "    print(\"Could not find video\")\n",
    "\n",
    "def wrap_env(env):\n",
    "  env = Monitor(env, './video', force=True)\n",
    "  return env\n",
    "\n",
    "from pyvirtualdisplay import Display\n",
    "Display().start()\n",
    "\n",
    "\n",
    "# download and upload https://drive.google.com/open?id=1k8zmU1xTlABgAhjHM9A43zqq3Jtu_I4x"
   ]
  },
  {
   "cell_type": "markdown",
   "metadata": {},
   "source": [
    "# * 과제 : BC in Pendulum Example\n",
    "\n",
    "1. 아래 Pendulum environment에서 \"빈 칸을 채워넣고\" 코드를 실행시킨 뒤,\n",
    "2. 맨 마지막 cell에서 \"Total Reward값\"과 \"자신의 학번\"과 \"동영상이 나온 화면을 Capture\"해서\n",
    "3. 1개의 image 파일로 만들어서 제출해주세요!"
   ]
  },
  {
   "cell_type": "markdown",
   "metadata": {
    "colab_type": "text",
    "id": "qBYEzne1fqO3"
   },
   "source": [
    "### Load data from pickle file\n",
    "\n",
    "Data file has (s,a) pairs"
   ]
  },
  {
   "cell_type": "code",
   "execution_count": null,
   "metadata": {
    "colab": {},
    "colab_type": "code",
    "id": "3nvM_FiSfqO4"
   },
   "outputs": [],
   "source": [
    "envname = \"Pendulum-v0\"\n",
    "\n",
    "# Load demonstrations\n",
    "demo_file = open('./'+envname+'_expert_demo.pkl', 'rb')\n",
    "demonstrations = pickle.load(demo_file)\n",
    "demonstrations = shuffle(demonstrations)\n",
    "\n",
    "# Check expert's performance\n",
    "exp_ret = np.mean([np.sum(d['rewards']) for d in demonstrations])\n",
    "print('Expert\\'s Average Cumulative Rewards {:.3f}'.format(exp_ret))\n",
    "\n",
    "demo_observes = []\n",
    "demo_actions = []\n",
    "for demonstration in demonstrations:\n",
    "    for obs in demonstration['observes']:\n",
    "        demo_observes.append(obs)\n",
    "    for act in demonstration['actions']:\n",
    "        demo_actions.append(act)\n",
    "demo_observes=np.asarray(demo_observes)\n",
    "demo_actions=np.asarray(demo_actions)\n",
    "\n",
    "demo_observes, demo_actions = shuffle(demo_observes, demo_actions)\n",
    "\n",
    "demo_observes = demo_observes[:500, :]\n",
    "demo_actions = demo_actions[:500, :]"
   ]
  },
  {
   "cell_type": "markdown",
   "metadata": {
    "colab_type": "text",
    "id": "Al2A3bO6fqO7"
   },
   "source": [
    "### Print the shape of data\n",
    "### Find observation dimension and action dimension"
   ]
  },
  {
   "cell_type": "code",
   "execution_count": null,
   "metadata": {
    "colab": {},
    "colab_type": "code",
    "id": "xUgNdYAsfqO7"
   },
   "outputs": [],
   "source": [
    "obs_dim = (A)\n",
    "act_dim = (B)\n",
    "\n",
    "print(\"Observation data has shape {}\".format(demo_observes.shape))\n",
    "print(\"Action data has shape {}\".format(demo_actions.shape))"
   ]
  },
  {
   "cell_type": "markdown",
   "metadata": {
    "colab_type": "text",
    "id": "DS3BmgLafqO-"
   },
   "source": [
    "### Run Gaussian Process Regression"
   ]
  },
  {
   "cell_type": "code",
   "execution_count": null,
   "metadata": {
    "colab": {},
    "colab_type": "code",
    "id": "QnIGcpdCfqO_"
   },
   "outputs": [],
   "source": [
    "kernel = C(1.0, (1e-3, 1e3)) * RBF(1e4, (1e-2, 1e6))\n",
    "gp = GaussianProcessRegressor(kernel=kernel, n_restarts_optimizer=9)\n",
    "\n",
    "\n",
    "demo_obs_mean = (A)\n",
    "demo_obs_std = (B)\n",
    "nz_demo_observes = (C)\n",
    "\n",
    "\n",
    "gpr = gp.fit(nz_demo_observes, demo_actions)"
   ]
  },
  {
   "cell_type": "markdown",
   "metadata": {
    "colab_type": "text",
    "id": "xeySR-1cfqPB"
   },
   "source": [
    "### Test GPR controller!"
   ]
  },
  {
   "cell_type": "code",
   "execution_count": null,
   "metadata": {},
   "outputs": [],
   "source": [
    "from pyvirtualdisplay import Display\n",
    "\n",
    "Display().start()"
   ]
  },
  {
   "cell_type": "code",
   "execution_count": null,
   "metadata": {
    "colab": {},
    "colab_type": "code",
    "id": "U0fkJrqZfqPC"
   },
   "outputs": [],
   "source": [
    "env = wrap_env(gym.make(envname))\n",
    "obs = env.reset()\n",
    "obs = np.reshape(obs, [1, -1])\n",
    "total_reward = 0\n",
    "frames = []\n",
    "for t in range(10000):\n",
    "    # Render into buffer. \n",
    "    nz_obs = (A)\n",
    "    action = (B)\n",
    "    obs, reward, done, info = env.step(action)\n",
    "    obs = np.reshape(obs, [1, -1])\n",
    "    total_reward += reward\n",
    "    if done:\n",
    "        break\n",
    "env.close()\n",
    "\n",
    "####################################################3\n",
    "# 제출해주셔야 하는 부분 : 이 cell을 실행시키고, 나온 결과값입니다!\n",
    "print(\"\\n\")\n",
    "print(\"===================================\")\n",
    "print(\"My class number is : _여기에 이름을 입력해주세요(영어 OK)!_\")\n",
    "print(\"My class number is : _여기에 학번을 입력해주세요!_\")\n",
    "print('Total Reward : %.2f'%total_reward)\n",
    "print(\"===================================\")\n",
    "####################################################3\n",
    "show_video()"
   ]
  }
 ],
 "metadata": {
  "colab": {
   "collapsed_sections": [],
   "name": "Behavior Cloning exercise 2.ipynb",
   "provenance": [],
   "toc_visible": true
  },
  "kernelspec": {
   "display_name": "Python 3",
   "language": "python",
   "name": "python3"
  },
  "language_info": {
   "codemirror_mode": {
    "name": "ipython",
    "version": 3
   },
   "file_extension": ".py",
   "mimetype": "text/x-python",
   "name": "python",
   "nbconvert_exporter": "python",
   "pygments_lexer": "ipython3",
   "version": "3.7.4"
  }
 },
 "nbformat": 4,
 "nbformat_minor": 1
}
