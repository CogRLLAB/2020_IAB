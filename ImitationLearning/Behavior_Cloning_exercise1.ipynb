{
 "cells": [
  {
   "cell_type": "markdown",
   "metadata": {
    "colab_type": "text",
    "id": "y65agOy6b5uN"
   },
   "source": [
    "# Install & Import Required packages/libraries\n",
    "\n"
   ]
  },
  {
   "cell_type": "markdown",
   "metadata": {},
   "source": [
    "### * 중요! matplotlib version = 2.0으로 해야 호환성에 문제가 없었습니다 (다른 버전은 확인해보지 X)\n",
    "### => matplotlib version을 맞춰주세요!"
   ]
  },
  {
   "cell_type": "code",
   "execution_count": null,
   "metadata": {},
   "outputs": [],
   "source": [
    "!pip install gym\n",
    "!git clone https://github.com/jakevdp/JSAnimation \n",
    "%cd JSAnimation \n",
    "!python setup.py install\n",
    "\n",
    "!apt-get install python-opengl -y \n",
    "!apt install xvfb -y \n",
    "!pip install pyvirtualdisplay\n",
    "!pip install pyglet \n",
    "!pip install matplotlib==2.0\n",
    "%cd .."
   ]
  },
  {
   "cell_type": "markdown",
   "metadata": {},
   "source": [
    "### **위의 셀을 실행시키고 .pkl 파일을 Google drive에 넣어주세요!"
   ]
  },
  {
   "cell_type": "code",
   "execution_count": null,
   "metadata": {
    "colab": {
     "base_uri": "https://localhost:8080/",
     "height": 755
    },
    "colab_type": "code",
    "executionInfo": {
     "elapsed": 26845,
     "status": "ok",
     "timestamp": 1574175894411,
     "user": {
      "displayName": "Obin Kwon",
      "photoUrl": "",
      "userId": "09113470804415547992"
     },
     "user_tz": -540
    },
    "id": "6T3UC2DTHIuB",
    "outputId": "82a59fda-c45c-44b3-bb94-d53c044f736b"
   },
   "outputs": [],
   "source": [
    "import gym\n",
    "import pickle\n",
    "import numpy as np\n",
    "import matplotlib.pyplot as plt\n",
    "import gzip\n",
    "\n",
    "from sklearn.utils import shuffle\n",
    "from sklearn.gaussian_process import GaussianProcessRegressor\n",
    "from sklearn.gaussian_process.kernels import RBF, ConstantKernel as C\n",
    "from gym.wrappers import Monitor\n",
    "import glob, io, base64\n",
    "from IPython.display import HTML, display\n",
    "\n",
    "%matplotlib inline\n",
    "\n",
    "def show_video():\n",
    "  mp4list = glob.glob('video/*.mp4')\n",
    "  if len(mp4list) > 0:\n",
    "    mp4 = mp4list[0]\n",
    "    video = io.open(mp4, 'r+b').read()\n",
    "    encoded = base64.b64encode(video)\n",
    "    display(HTML(data='''<video alt=\"test\" autoplay \n",
    "                loop controls style=\"height: 400px;\">\n",
    "                <source src=\"data:video/mp4;base64,{0}\" type=\"video/mp4\" />\n",
    "             </video>'''.format(encoded.decode('ascii'))))\n",
    "  else: \n",
    "    print(\"Could not find video\")\n",
    "\n",
    "def wrap_env(env):\n",
    "  env = Monitor(env, './video', force=True)\n",
    "  return env\n",
    "\n",
    "# download and upload pickle file https://drive.google.com/file/d/17heYAjq3fANv4pvJyF8mJ_cf7mgRgSya/view?usp=sharing"
   ]
  },
  {
   "cell_type": "markdown",
   "metadata": {
    "colab_type": "text",
    "id": "NnciJm_9HIuK"
   },
   "source": [
    "# Behavior Clonning \n",
    "\n",
    "# MountCar Example\n",
    "\n",
    "### Load data from pickle file\n",
    "\n",
    "Data file has (s,a) pairs"
   ]
  },
  {
   "cell_type": "code",
   "execution_count": null,
   "metadata": {
    "colab": {
     "base_uri": "https://localhost:8080/",
     "height": 34
    },
    "colab_type": "code",
    "executionInfo": {
     "elapsed": 659,
     "status": "ok",
     "timestamp": 1573540069731,
     "user": {
      "displayName": "Gunmin Lee",
      "photoUrl": "",
      "userId": "10801758540590282878"
     },
     "user_tz": -540
    },
    "id": "umU3M_3aHIuL",
    "outputId": "0dd4790c-669a-4385-dc1e-36d59a86d744"
   },
   "outputs": [],
   "source": [
    "envname = \"MountainCarContinuous-v0\"\n",
    "\n",
    "# Load demonstrations\n",
    "demo_file = open('./' + envname + '_expert_demo.pkl', 'rb')\n",
    "demonstrations, = pickle.load(demo_file)\n",
    "demonstrations = shuffle(demonstrations)\n",
    "\n",
    "# Check expert's performance\n",
    "exp_ret = np.mean([np.sum(d['rewards']) for d in demonstrations])\n",
    "print('Expert\\'s Average Cumulative Rewards {:.3f}'.format(exp_ret))\n",
    "\n",
    "demo_observes = []\n",
    "demo_actions = []\n",
    "for demonstration in demonstrations:\n",
    "    for obs in demonstration['observes']:\n",
    "        demo_observes.append(obs)\n",
    "    for act in demonstration['actions']:\n",
    "        demo_actions.append(act)\n",
    "demo_observes = np.asarray(demo_observes)\n",
    "demo_actions = np.asarray(demo_actions)\n",
    "\n",
    "demo_observes, demo_actions = shuffle(demo_observes, demo_actions)\n",
    "\n",
    "demo_observes = demo_observes[:100,:]\n",
    "demo_actions = demo_actions[:100,:]"
   ]
  },
  {
   "cell_type": "markdown",
   "metadata": {
    "colab_type": "text",
    "id": "aYMbkBuUHIuO"
   },
   "source": [
    "### Print the shape of data\n",
    "### Find observation dimension and action dimension"
   ]
  },
  {
   "cell_type": "code",
   "execution_count": null,
   "metadata": {
    "colab": {},
    "colab_type": "code",
    "id": "3wK6g0fqHIuP"
   },
   "outputs": [],
   "source": [
    "obs_dim = (A)\n",
    "act_dim = (B)\n",
    "\n",
    "print(\"Observation data has shape {}\".format(demo_observes.shape))\n",
    "print(\"Action data has shape {}\".format(demo_actions.shape))"
   ]
  },
  {
   "cell_type": "markdown",
   "metadata": {
    "colab_type": "text",
    "id": "gro5I4CWHIuS"
   },
   "source": [
    "(A) demo_observes.shape[1]\n",
    "\n",
    "(B) demo_actions.shape[1]"
   ]
  },
  {
   "cell_type": "markdown",
   "metadata": {
    "colab_type": "text",
    "id": "9s2ngA_NHIuT"
   },
   "source": [
    "### Run Gaussian Process Regression"
   ]
  },
  {
   "cell_type": "code",
   "execution_count": null,
   "metadata": {
    "colab": {},
    "colab_type": "code",
    "id": "YdTPb2NmHIuT"
   },
   "outputs": [],
   "source": [
    "kernel = C(1.0, (1e-3, 1e3)) * RBF(1, (1e-2, 1e2))\n",
    "gp = GaussianProcessRegressor(kernel=kernel, n_restarts_optimizer=9)\n",
    "\n",
    "demo_obs_mean = (A)\n",
    "demo_obs_std = (B)\n",
    "nz_demo_observes = (C)\n",
    "\n",
    "gpr = gp.fit(nz_demo_observes, demo_actions)"
   ]
  },
  {
   "cell_type": "markdown",
   "metadata": {
    "colab_type": "text",
    "id": "yrteX-gDHIuW"
   },
   "source": [
    "(A) np.mean(demo_observes, axis=0, keepdims=True)\n",
    "\n",
    "(B) np.std(demo_observes, axis=0, keepdims=True)\n",
    "\n",
    "(C) (demo_observes - demo_obs_mean) / demo_obs_std"
   ]
  },
  {
   "cell_type": "markdown",
   "metadata": {
    "colab_type": "text",
    "id": "PcuqhObBHIuX"
   },
   "source": [
    "### Test GPR controller!"
   ]
  },
  {
   "cell_type": "code",
   "execution_count": null,
   "metadata": {
    "colab": {
     "base_uri": "https://localhost:8080/",
     "height": 72
    },
    "colab_type": "code",
    "executionInfo": {
     "elapsed": 604,
     "status": "ok",
     "timestamp": 1573540085597,
     "user": {
      "displayName": "Gunmin Lee",
      "photoUrl": "",
      "userId": "10801758540590282878"
     },
     "user_tz": -540
    },
    "id": "IFam0VstaMeS",
    "outputId": "0a9c53be-5841-473b-b5c8-6b185c28bac9"
   },
   "outputs": [],
   "source": [
    "from pyvirtualdisplay import Display\n",
    "\n",
    "Display().start()"
   ]
  },
  {
   "cell_type": "code",
   "execution_count": null,
   "metadata": {
    "colab": {
     "base_uri": "https://localhost:8080/",
     "height": 439
    },
    "colab_type": "code",
    "executionInfo": {
     "elapsed": 7107,
     "status": "ok",
     "timestamp": 1573540118477,
     "user": {
      "displayName": "Gunmin Lee",
      "photoUrl": "",
      "userId": "10801758540590282878"
     },
     "user_tz": -540
    },
    "id": "VJB8bzmTHIuX",
    "outputId": "f382c853-0a85-4842-e581-74ab09021b93",
    "scrolled": false
   },
   "outputs": [],
   "source": [
    "env = wrap_env(gym.make(envname))\n",
    "#env= gym.make(envname)\n",
    "obs = env.reset()\n",
    "obs = np.reshape(obs, [1, -1])\n",
    "total_reward = 0\n",
    "frames = []\n",
    "for t in range(10000):\n",
    "    # Render into buffer. \n",
    "    frames.append(env.render(mode='rgb_array'))\n",
    "    nz_obs = (A)\n",
    "    action = (B)\n",
    "    obs, reward, done, info = env.step(action)\n",
    "    obs = np.reshape(obs, [1, -1])\n",
    "    total_reward += reward\n",
    "    if done:\n",
    "        break\n",
    "env.close()\n",
    "print('Total Reward : %.2f'%total_reward)\n",
    "show_video()"
   ]
  },
  {
   "cell_type": "markdown",
   "metadata": {
    "colab_type": "text",
    "id": "yQlE7NwgHIuZ"
   },
   "source": [
    "(A) (obs - demo_obs_mean) / demo_obs_std\n",
    "\n",
    "(B) gp.predict(nz_obs)"
   ]
  }
 ],
 "metadata": {
  "colab": {
   "collapsed_sections": [],
   "name": "Behavior Cloning exercise 1.ipynb",
   "provenance": [],
   "toc_visible": true
  },
  "kernelspec": {
   "display_name": "Python 3",
   "language": "python",
   "name": "python3"
  },
  "language_info": {
   "codemirror_mode": {
    "name": "ipython",
    "version": 3
   },
   "file_extension": ".py",
   "mimetype": "text/x-python",
   "name": "python",
   "nbconvert_exporter": "python",
   "pygments_lexer": "ipython3",
   "version": "3.7.3"
  }
 },
 "nbformat": 4,
 "nbformat_minor": 1
}
