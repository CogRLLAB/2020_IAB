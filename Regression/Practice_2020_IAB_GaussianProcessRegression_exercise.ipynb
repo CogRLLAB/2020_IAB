{
 "cells": [
  {
   "cell_type": "markdown",
   "metadata": {},
   "source": [
    "# Gaussian Process Regression Exercise : 1D case"
   ]
  },
  {
   "cell_type": "code",
   "execution_count": null,
   "metadata": {
    "colab": {
     "base_uri": "https://localhost:8080/",
     "height": 64
    },
    "colab_type": "code",
    "executionInfo": {
     "elapsed": 2414,
     "status": "ok",
     "timestamp": 1573537842924,
     "user": {
      "displayName": "Gunmin Lee",
      "photoUrl": "",
      "userId": "10801758540590282878"
     },
     "user_tz": -540
    },
    "id": "dW7LawHniX44",
    "outputId": "72ee5d4d-6057-4f4f-bab1-3bd0d64e2082"
   },
   "outputs": [],
   "source": [
    "# We will use Tensorflow 1.14 version!\n",
    "# Import library\n",
    "%tensorflow_version 1.14\n",
    "import matplotlib.pyplot as plt\n",
    "import numpy as np\n",
    "import tensorflow as tf\n",
    "%matplotlib inline\n",
    "\n",
    "# Check the version of tf\n",
    "print(tf.__version__)"
   ]
  },
  {
   "cell_type": "markdown",
   "metadata": {
    "colab_type": "text",
    "id": "BXQJuGddiX5B"
   },
   "source": [
    "# Data Generation"
   ]
  },
  {
   "cell_type": "code",
   "execution_count": null,
   "metadata": {
    "colab": {
     "base_uri": "https://localhost:8080/",
     "height": 269
    },
    "colab_type": "code",
    "executionInfo": {
     "elapsed": 751,
     "status": "ok",
     "timestamp": 1573537846041,
     "user": {
      "displayName": "Gunmin Lee",
      "photoUrl": "",
      "userId": "10801758540590282878"
     },
     "user_tz": -540
    },
    "id": "i-Rs8dOtiX5C",
    "outputId": "9ad886c1-3b0b-465a-8361-3e194e66b197"
   },
   "outputs": [],
   "source": [
    "def f3(x):\n",
    "    return np.sin(x) + 0.05 * x** 2\n",
    "\n",
    "#1. Make 100 dots between [-2pi, 2pi]\n",
    "x = np.linspace(-2 * np.pi, 2 * np.pi, 100)\n",
    "y = f3(x)\n",
    "\n",
    "#2. Make n dots between [-1.5pi, 1.5pi]\n",
    "n = 20\n",
    "x_data = np.linspace(-1.5 * np.pi, 1.5 * np.pi, n)\n",
    "y_data = f3(x_data) + 0.05 * np.random.randn(n) # Add random noise!\n",
    "\n",
    "plt.plot(x, y, \"k-\", label=\"Ground Truth\")\n",
    "plt.plot(x_data, y_data, \"r.\", label=\"Data\")\n",
    "plt.legend()\n",
    "plt.xlim([-2 * np.pi, 2 * np.pi])\n",
    "plt.ylim([-2, 3])\n",
    "plt.show()"
   ]
  },
  {
   "cell_type": "markdown",
   "metadata": {
    "colab_type": "text",
    "id": "m-iEEdWUiX5H"
   },
   "source": [
    "# Gaussian Process Regression\n",
    "\n",
    "### Kernel\n",
    "\n",
    "$k(x_{i},x_{j}) = \\beta \\exp(-0.5\\lambda^{-1}(x_{i}-x_{j})^{2})$\n",
    "\n",
    "### Posterior mean and covariance\n",
    "\n",
    "$y_{*} = k_{*}^{t}(K + \\sigma I)^{-1}Y$\n",
    "\n",
    "$Var(y_{*}) = k_{**} - k_{*}^{t}(K + \\sigma I)^{-1}k_{*}$"
   ]
  },
  {
   "cell_type": "code",
   "execution_count": null,
   "metadata": {
    "colab": {},
    "colab_type": "code",
    "id": "YxfjnCPfiX5I"
   },
   "outputs": [],
   "source": [
    "tf.reset_default_graph()\n",
    "\n",
    "# Hyperparameter for Kernel\n",
    "inv_lambda = 4e0\n",
    "beta = 1e0\n",
    "sigma = 1e-4\n",
    "\n",
    "# Using tf.placeholder!\n",
    "x_ph = (A)\n",
    "y_ph = (B)\n",
    "x_star_ph = (C)\n",
    "\n",
    "inv_lambda_ph = (D)\n",
    "beta_ph = (E)\n",
    "sigma_ph = (F)"
   ]
  },
  {
   "cell_type": "markdown",
   "metadata": {
    "colab_type": "text",
    "id": "gyTr8cHLiX5L"
   },
   "source": [
    "(A) tf.placeholder(tf.float32, shape=(None, 1))\n",
    "\n",
    "(B) tf.placeholder(tf.float32, shape=(None, 1))\n",
    "\n",
    "(C) tf.placeholder(tf.float32, shape=(None, 1))\n",
    "\n",
    "(D) tf.placeholder(tf.float32, shape=())\n",
    "\n",
    "(E) tf.placeholder(tf.float32, shape=())\n",
    "\n",
    "(F) tf.placeholder(tf.float32, shape=())"
   ]
  },
  {
   "cell_type": "markdown",
   "metadata": {
    "colab_type": "text",
    "id": "I8JC7P69iX5M"
   },
   "source": [
    "## Define GPR"
   ]
  },
  {
   "cell_type": "markdown",
   "metadata": {},
   "source": [
    "### Norm\n",
    "\n",
    "$X^{2} - 2XX^{t} + X^{2}$\n",
    "\n",
    "\n",
    "### Kernel\n",
    "\n",
    "$k(x_{i},x_{j}) = \\beta \\exp(-0.5\\lambda^{-1}(x_{i}-x_{j})^{2})$"
   ]
  },
  {
   "cell_type": "code",
   "execution_count": null,
   "metadata": {
    "colab": {},
    "colab_type": "code",
    "id": "D8tMtO5hiX5N"
   },
   "outputs": [],
   "source": [
    "x_norm = (A)\n",
    "x_norm = tf.reshape(x_norm, [-1, 1])\n",
    "\n",
    "squared_dist_XX = (B)\n",
    "K_XX = (C)\n",
    "\n",
    "x_star_norm =  (D)\n",
    "x_star_norm = tf.reshape(x_star_norm, [-1, 1])\n",
    "\n",
    "squared_dist_XstarX = (E)\n",
    "K_XstarX = (F)\n",
    "\n",
    "mean_y = tf.reduce_mean(y_ph, axis=0, keepdims=True)\n",
    "\n",
    "y_pred = tf.matmul(K_XstarX, tf.matmul(tf.linalg.inv(K_XX + sigma_ph * tf.identity(K_XX)), y_ph))\n",
    "std_pred = tf.sqrt(beta - tf.diag_part(tf.matmul(K_XstarX, tf.matmul(tf.linalg.inv(K_XX + sigma_ph * tf.identity(K_XX)), tf.transpose(K_XstarX)))))"
   ]
  },
  {
   "cell_type": "markdown",
   "metadata": {
    "colab_type": "text",
    "id": "Hmw7_VWliX5Q"
   },
   "source": [
    "(A) tf.reduce_sum(tf.square(x_ph), axis=1)\n",
    "\n",
    "(B) x_norm - 2 * tf.matmul(x_ph, x_ph, False, True) + tf.transpose(x_norm)\n",
    "\n",
    "(C) beta_ph * tf.exp(-inv_lambda_ph * 0.5 * squared_dist_XX)\n",
    "\n",
    "(D) tf.reduce_sum(tf.square(x_star_ph), axis=1)\n",
    "\n",
    "(E) x_star_norm - 2 * tf.matmul(x_star_ph, x_ph, False, True) + tf.transpose(x_norm)\n",
    "\n",
    "(F) beta_ph * tf.exp(-inv_lambda_ph * 0.5 * squared_dist_XstarX)\n",
    "\n",
    "(G) tf.matmul(K_XstarX, tf.matmul(tf.linalg.inv(K_XX + sigma_ph * tf.identity(K_XX)), y_ph))\n",
    "\n",
    "(H) tf.sqrt(beta - tf.diag_part(tf.matmul(K_XstarX, tf.matmul(tf.linalg.inv(K_XX + sigma_ph * tf.identity(K_XX)), tf.transpose(K_XstarX)))))"
   ]
  },
  {
   "cell_type": "markdown",
   "metadata": {
    "colab_type": "text",
    "id": "L0K738-riX5R"
   },
   "source": [
    "## GPR"
   ]
  },
  {
   "cell_type": "code",
   "execution_count": null,
   "metadata": {
    "colab": {
     "base_uri": "https://localhost:8080/",
     "height": 269
    },
    "colab_type": "code",
    "executionInfo": {
     "elapsed": 1592,
     "status": "ok",
     "timestamp": 1573537859278,
     "user": {
      "displayName": "Gunmin Lee",
      "photoUrl": "",
      "userId": "10801758540590282878"
     },
     "user_tz": -540
    },
    "id": "WhY8QExJiX5S",
    "outputId": "69de15b8-0020-4304-b984-e08780696e94",
    "scrolled": false
   },
   "outputs": [],
   "source": [
    "sess = tf.Session()\n",
    "\n",
    "feed_dict = (A)\n",
    "y_pred_np, std_pred_np = sess.run([y_pred, std_pred], feed_dict=feed_dict)\n",
    "\n",
    "plt.plot(x, y, \"k-\", label=\"Ground Truth\")\n",
    "plt.plot(x_data, y_data, \"r.\", label=\"Data\")\n",
    "plt.plot(x, y_pred_np, \"b-\", label=\"Gaussian Process Regression\")\n",
    "plt.fill_between(x, y_pred_np.flatten() - std_pred_np, y_pred_np.flatten() + std_pred_np, color='grey', alpha='0.5')\n",
    "plt.legend()\n",
    "plt.xlim([-2 * np.pi, 2 * np.pi])\n",
    "plt.ylim([-2, 3])\n",
    "plt.show()"
   ]
  },
  {
   "cell_type": "markdown",
   "metadata": {},
   "source": [
    "(A) {x_star_ph: x[:, np.newaxis], x_ph: x_data[:, np.newaxis], y_ph: y_data[:, np.newaxis], inv_lambda_ph: inv_lambda, beta_ph: beta, sigma_ph: sigma}"
   ]
  },
  {
   "cell_type": "markdown",
   "metadata": {
    "colab_type": "text",
    "id": "0fUs3IADiX5V"
   },
   "source": [
    "## Effect of Scale Parameter $\\lambda^{-1}$"
   ]
  },
  {
   "cell_type": "code",
   "execution_count": null,
   "metadata": {
    "colab": {
     "base_uri": "https://localhost:8080/",
     "height": 1000
    },
    "colab_type": "code",
    "executionInfo": {
     "elapsed": 2592,
     "status": "ok",
     "timestamp": 1573537864911,
     "user": {
      "displayName": "Gunmin Lee",
      "photoUrl": "",
      "userId": "10801758540590282878"
     },
     "user_tz": -540
    },
    "id": "7Ydw-6dYiX5W",
    "outputId": "1a57d684-e191-46fa-c063-f7c7d42491fb"
   },
   "outputs": [],
   "source": [
    "inv_lambda1 = 1e2\n",
    "inv_lambda2 = 5e1\n",
    "inv_lambda3 = 1e1\n",
    "inv_lambda4 = 5e0\n",
    "inv_lambda5 = 1e0\n",
    "\n",
    "\n",
    "feed_dict = {x_star_ph: x[:, np.newaxis], x_ph: x_data[:, np.newaxis], \n",
    "             y_ph: y_data[:, np.newaxis], inv_lambda_ph: inv_lambda1, beta_ph: beta, sigma_ph: sigma}\n",
    "y_pred_np1, std_pred_np1 = sess.run([y_pred, std_pred],feed_dict=feed_dict)\n",
    "\n",
    "feed_dict = {x_star_ph: x[:, np.newaxis], x_ph: x_data[:, np.newaxis], \n",
    "             y_ph: y_data[:, np.newaxis], inv_lambda_ph: inv_lambda2, beta_ph: beta, sigma_ph: sigma}\n",
    "y_pred_np2, std_pred_np2 = sess.run([y_pred, std_pred],feed_dict=feed_dict)\n",
    "\n",
    "feed_dict = {x_star_ph: x[:, np.newaxis], x_ph: x_data[:, np.newaxis], \n",
    "             y_ph: y_data[:, np.newaxis], inv_lambda_ph: inv_lambda3, beta_ph: beta, sigma_ph: sigma}\n",
    "y_pred_np3, std_pred_np3 = sess.run([y_pred, std_pred],feed_dict=feed_dict)\n",
    "\n",
    "feed_dict = {x_star_ph: x[:, np.newaxis], x_ph: x_data[:, np.newaxis], \n",
    "             y_ph: y_data[:, np.newaxis], inv_lambda_ph: inv_lambda4, beta_ph: beta, sigma_ph: sigma}\n",
    "y_pred_np4, std_pred_np4 = sess.run([y_pred, std_pred],feed_dict=feed_dict)\n",
    "\n",
    "feed_dict = {x_star_ph: x[:, np.newaxis], x_ph: x_data[:, np.newaxis], \n",
    "             y_ph: y_data[:, np.newaxis], inv_lambda_ph: inv_lambda5, beta_ph: beta, sigma_ph: sigma}\n",
    "y_pred_np5, std_pred_np5 = sess.run([y_pred, std_pred],feed_dict=feed_dict)\n",
    "\n",
    "plt.figure()\n",
    "plt.title('$\\lambda^{-1}$'+': {:.01e}'.format(inv_lambda1), {'fontsize':20})\n",
    "plt.plot(x, y, \"k-\", label=\"Ground Truth\")\n",
    "plt.plot(x_data, y_data, \"r.\", label=\"Data\")\n",
    "plt.plot(x, y_pred_np1, \"b-\", label=\"Gaussian Process Regression\")\n",
    "plt.fill_between(x, y_pred_np1.flatten() - std_pred_np1, y_pred_np1.flatten() + std_pred_np1, color='grey', alpha='0.5')\n",
    "plt.legend()\n",
    "plt.xlim([-2 * np.pi, 2 * np.pi])\n",
    "plt.ylim([-2, 3])\n",
    "\n",
    "plt.figure()\n",
    "plt.title('$\\lambda^{-1}$'+': {:.01e}'.format(inv_lambda2), {'fontsize':20})\n",
    "plt.plot(x, y, \"k-\", label=\"Ground Truth\")\n",
    "plt.plot(x_data, y_data, \"r.\", label=\"Data\")\n",
    "plt.plot(x, y_pred_np2, \"b-\", label=\"Gaussian Process Regression\")\n",
    "plt.fill_between(x, y_pred_np2.flatten() - std_pred_np2, y_pred_np2.flatten() + std_pred_np2, color='grey', alpha='0.5')\n",
    "plt.legend()\n",
    "plt.xlim([-2 * np.pi, 2 * np.pi])\n",
    "plt.ylim([-2, 3])\n",
    "\n",
    "plt.figure()\n",
    "plt.title('$\\lambda^{-1}$'+': {:.01e}'.format(inv_lambda3), {'fontsize':20})\n",
    "plt.plot(x, y, \"k-\", label=\"Ground Truth\")\n",
    "plt.plot(x_data, y_data, \"r.\", label=\"Data\")\n",
    "plt.plot(x, y_pred_np3, \"b-\", label=\"Gaussian Process Regression\")\n",
    "plt.fill_between(x, y_pred_np3.flatten() - std_pred_np3, y_pred_np3.flatten() + std_pred_np3, color='grey', alpha='0.5')\n",
    "plt.legend()\n",
    "plt.xlim([-2 * np.pi, 2 * np.pi])\n",
    "plt.ylim([-2, 3])\n",
    "\n",
    "plt.figure()\n",
    "plt.title('$\\lambda^{-1}$'+': {:.01e}'.format(inv_lambda4), {'fontsize':20})\n",
    "plt.plot(x, y, \"k-\", label=\"Ground Truth\")\n",
    "plt.plot(x_data, y_data, \"r.\", label=\"Data\")\n",
    "plt.plot(x, y_pred_np4, \"b-\", label=\"Gaussian Process Regression\")\n",
    "plt.fill_between(x, y_pred_np4.flatten() - std_pred_np4, y_pred_np4.flatten() + std_pred_np4, color='grey', alpha='0.5')\n",
    "plt.legend()\n",
    "plt.xlim([-2 * np.pi, 2 * np.pi])\n",
    "plt.ylim([-2, 3])\n",
    "\n",
    "plt.figure()\n",
    "plt.title('$\\lambda^{-1}$'+': {:.01e}'.format(inv_lambda5), {'fontsize':20})\n",
    "plt.plot(x, y, \"k-\", label=\"Ground Truth\")\n",
    "plt.plot(x_data, y_data, \"r.\", label=\"Data\")\n",
    "plt.plot(x, y_pred_np5, \"b-\", label=\"Gaussian Process Regression\")\n",
    "plt.fill_between(x, y_pred_np5.flatten() - std_pred_np5, y_pred_np5.flatten() + std_pred_np5, color='grey', alpha='0.5')\n",
    "plt.legend()\n",
    "plt.xlim([-2 * np.pi, 2 * np.pi])\n",
    "plt.ylim([-2, 3])\n",
    "\n",
    "plt.show()"
   ]
  },
  {
   "cell_type": "markdown",
   "metadata": {
    "colab_type": "text",
    "id": "As-AVsuviX5Y"
   },
   "source": [
    "# What is the best hyperparameter of GPR??\n",
    "\n",
    "### We can optimize the hyperparameter using sklearn package"
   ]
  },
  {
   "cell_type": "code",
   "execution_count": null,
   "metadata": {
    "colab": {
     "base_uri": "https://localhost:8080/",
     "height": 269
    },
    "colab_type": "code",
    "executionInfo": {
     "elapsed": 1049,
     "status": "ok",
     "timestamp": 1573460333897,
     "user": {
      "displayName": "Obin Kwon",
      "photoUrl": "",
      "userId": "09113470804415547992"
     },
     "user_tz": -540
    },
    "id": "F59ipInjiX5Z",
    "outputId": "f4ee546b-5d1f-49fe-ff28-11e7afbb02b2"
   },
   "outputs": [],
   "source": [
    "from sklearn.gaussian_process import GaussianProcessRegressor\n",
    "from sklearn.gaussian_process.kernels import RBF, ConstantKernel as C\n",
    "\n",
    "kernel = C(1.0, (1e-3, 1e3)) * RBF(10, (1e-2, 1e2))\n",
    "gp = GaussianProcessRegressor(kernel=kernel, n_restarts_optimizer=9)\n",
    "gp.fit(x_data[:, np.newaxis], y_data[:, np.newaxis])\n",
    "\n",
    "y_pred_sk, std_pred_sk = gp.predict(x[:, np.newaxis], return_std=True)\n",
    "\n",
    "plt.plot(x, y, \"k-\", label=\"Ground Truth\")\n",
    "plt.plot(x_data, y_data, \"r.\", label=\"Data\")\n",
    "plt.plot(x, y_pred_sk, \"b-\", label=\"Gaussian Process Regression\")\n",
    "plt.fill_between(x, y_pred_sk.flatten() - std_pred_sk, y_pred_sk.flatten() + std_pred_sk, color='grey', alpha='0.5')\n",
    "plt.legend()\n",
    "plt.xlim([-2 * np.pi, 2 * np.pi])\n",
    "plt.ylim([-2, 3])\n",
    "plt.show()"
   ]
  }
 ],
 "metadata": {
  "colab": {
   "collapsed_sections": [],
   "name": "Gaussian Process Regression exercise 1.ipynb",
   "provenance": [],
   "toc_visible": true
  },
  "kernelspec": {
   "display_name": "Python 3",
   "language": "python",
   "name": "python3"
  },
  "language_info": {
   "codemirror_mode": {
    "name": "ipython",
    "version": 3
   },
   "file_extension": ".py",
   "mimetype": "text/x-python",
   "name": "python",
   "nbconvert_exporter": "python",
   "pygments_lexer": "ipython3",
   "version": "3.7.3"
  }
 },
 "nbformat": 4,
 "nbformat_minor": 1
}
